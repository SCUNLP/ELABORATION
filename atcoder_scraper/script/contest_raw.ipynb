{
 "cells": [
  {
   "cell_type": "code",
   "execution_count": null,
   "metadata": {},
   "outputs": [],
   "source": [
    "from pymongo import MongoClient\n",
    "\n",
    "import os\n",
    "import requests\n",
    "\n",
    "mongo_connection_uri = os.environ.get(\"ME_CONFIG_MONGODB_URL\")\n",
    "client = MongoClient(mongo_connection_uri)\n",
    "\n",
    "db = client[\"atcoder\"]\n",
    "contest_raw_collection = db[\"contest_raw\"]"
   ]
  },
  {
   "cell_type": "code",
   "execution_count": 2,
   "metadata": {},
   "outputs": [],
   "source": [
    "def get_html(page):\n",
    "    cookies = {\n",
    "        \"_ga\": \"GA1.1.1669735030.1727884004\",\n",
    "        \"REVEL_FLASH\": \"\",\n",
    "        \"REVEL_SESSION\": \"37c1cd7e11d5bc4369c1312339ff1b2d219821ee-%00UserName%3Adarcy_zhang%00%00a%3Afalse%00%00w%3Afalse%00%00SessionKey%3Af712625f246d5b11787eeeac74b6cefd3f43ebfeb6e05e5a6b9568a08ba4367cebdfbc32acea8a-0b0fdeaa544c89f44b7326075ad509e6ba62c1c71fa969e5d0cab3c4e61ee30d%00%00UserScreenName%3Adarcy_zhang%00%00csrf_token%3AiecE%2FCD%2BWkZctrj%2BaFUUE0TovINExsqeelroJ6VJx9Q%3D%00%00_TS%3A1746162967%00\",\n",
    "        \"_ga_RC512FD18N\": \"GS1.1.1730610952.8.1.1730610965.0.0.0\",\n",
    "    }\n",
    "\n",
    "    headers = {\n",
    "        \"accept\": \"text/html,application/xhtml+xml,application/xml;q=0.9,image/avif,image/webp,image/apng,*/*;q=0.8,application/signed-exchange;v=b3;q=0.7\",\n",
    "        \"accept-language\": \"en-US,en;q=0.9,zh-CN;q=0.8,zh;q=0.7,en-GB;q=0.6,zh-TW;q=0.5\",\n",
    "        \"cache-control\": \"no-cache\",\n",
    "        \"pragma\": \"no-cache\",\n",
    "        \"priority\": \"u=0, i\",\n",
    "        \"sec-ch-ua\": '\"Chromium\";v=\"130\", \"Microsoft Edge\";v=\"130\", \"Not?A_Brand\";v=\"99\"',\n",
    "        \"sec-ch-ua-mobile\": \"?0\",\n",
    "        \"sec-ch-ua-platform\": '\"Windows\"',\n",
    "        \"sec-fetch-dest\": \"document\",\n",
    "        \"sec-fetch-mode\": \"navigate\",\n",
    "        \"sec-fetch-site\": \"none\",\n",
    "        \"sec-fetch-user\": \"?1\",\n",
    "        \"upgrade-insecure-requests\": \"1\",\n",
    "        \"user-agent\": \"Mozilla/5.0 (Windows NT 10.0; Win64; x64) AppleWebKit/537.36 (KHTML, like Gecko) Chrome/130.0.0.0 Safari/537.36 Edg/130.0.0.0\",\n",
    "    }\n",
    "\n",
    "    params = {\n",
    "        \"page\": page,\n",
    "    }\n",
    "\n",
    "    response = requests.get(\n",
    "        \"https://atcoder.jp/contests/archive\",\n",
    "        params=params,\n",
    "        cookies=cookies,\n",
    "        headers=headers,\n",
    "    )\n",
    "\n",
    "    response.encoding = 'utf-8'\n",
    "    return response.text"
   ]
  },
  {
   "cell_type": "code",
   "execution_count": 3,
   "metadata": {},
   "outputs": [],
   "source": [
    "for i in range(1, 15):\n",
    "    raw_html = get_html(str(i))\n",
    "    contest_raw_collection.insert_one({\n",
    "        \"raw_html\": raw_html\n",
    "    })"
   ]
  }
 ],
 "metadata": {
  "kernelspec": {
   "display_name": "Python 3",
   "language": "python",
   "name": "python3"
  },
  "language_info": {
   "codemirror_mode": {
    "name": "ipython",
    "version": 3
   },
   "file_extension": ".py",
   "mimetype": "text/x-python",
   "name": "python",
   "nbconvert_exporter": "python",
   "pygments_lexer": "ipython3",
   "version": "3.10.15"
  }
 },
 "nbformat": 4,
 "nbformat_minor": 2
}
