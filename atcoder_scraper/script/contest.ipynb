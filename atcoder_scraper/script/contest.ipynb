{
 "cells": [
  {
   "cell_type": "code",
   "execution_count": 1,
   "metadata": {},
   "outputs": [],
   "source": [
    "from pymongo import MongoClient\n",
    "from lxml import html\n",
    "\n",
    "import os\n",
    "\n",
    "mongo_connection_uri = os.environ.get(\"ME_CONFIG_MONGODB_URL\")\n",
    "client = MongoClient(mongo_connection_uri)\n",
    "\n",
    "db = client[\"atcoder\"]\n",
    "contest_raw_collection = db[\"contest_raw\"]\n",
    "contest_collection = db[\"contest\"]"
   ]
  },
  {
   "cell_type": "code",
   "execution_count": 2,
   "metadata": {},
   "outputs": [],
   "source": [
    "contest_list = []\n",
    "\n",
    "for contest_raw in contest_raw_collection.find():\n",
    "    tree = html.fromstring(contest_raw[\"raw_html\"])\n",
    "    tr_list = tree.xpath(\"//tbody/tr\")\n",
    "    for tr_elem in tr_list:\n",
    "        start_time = tr_elem.xpath(\".//time/text()\")[0]\n",
    "        contest_elem = tr_elem.xpath(\".//td[2]//a\")[0]\n",
    "        contest_collection.insert_one(\n",
    "            {\n",
    "                \"start_time\": start_time,\n",
    "                \"contest_url\": contest_elem.get(\"href\"),\n",
    "                \"contest_name\": contest_elem.text_content(),\n",
    "            }\n",
    "        )"
   ]
  }
 ],
 "metadata": {
  "kernelspec": {
   "display_name": "Python 3",
   "language": "python",
   "name": "python3"
  },
  "language_info": {
   "codemirror_mode": {
    "name": "ipython",
    "version": 3
   },
   "file_extension": ".py",
   "mimetype": "text/x-python",
   "name": "python",
   "nbconvert_exporter": "python",
   "pygments_lexer": "ipython3",
   "version": "3.10.15"
  }
 },
 "nbformat": 4,
 "nbformat_minor": 2
}
