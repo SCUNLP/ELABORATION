{
 "cells": [
  {
   "cell_type": "code",
   "execution_count": 1,
   "metadata": {},
   "outputs": [],
   "source": [
    "from pymongo import MongoClient\n",
    "from lxml import html\n",
    "\n",
    "import os\n",
    "import json\n",
    "\n",
    "dataset = []\n",
    "temp_dict = dict()\n",
    "\n",
    "mongo_connection_uri = os.environ.get(\"ME_CONFIG_MONGODB_URL\")\n",
    "client = MongoClient(mongo_connection_uri)\n",
    "\n",
    "db = client[\"atcoder\"]\n",
    "task_info_raw_collection = db[\"task_info_raw\"]\n",
    "submission_raw_collection = db[\"submission_raw\"]\n",
    "contest_collection = db[\"contest\"]\n",
    "\n",
    "for task_item in task_info_raw_collection.find():\n",
    "    task_url = task_item[\"task_url\"]\n",
    "    contest_id = task_url.split(\"/\")[2]\n",
    "    task_id = task_url.split(\"/\")[-1]\n",
    "\n",
    "    raw_html = task_item[\"raw_html\"]\n",
    "    tree = html.fromstring(raw_html)\n",
    "    try:\n",
    "        main_part = tree.xpath(\"//div[@id='task-statement']//span[@class='lang-en']\")[0]\n",
    "        score = main_part.xpath(\"./p/var\")[0].text_content()\n",
    "\n",
    "        before_io_style = main_part.xpath(\n",
    "            \".//div[@class='io-style']/preceding-sibling::div[@class='part']\"\n",
    "        )\n",
    "        problem_statement = \"\"\n",
    "        constraints = \"\"\n",
    "        for part_item in before_io_style:\n",
    "            text_content = html.tostring(part_item).decode(\"utf-8\")\n",
    "            if \"Problem Statement\" in text_content:\n",
    "                problem_statement = text_content\n",
    "            elif \"Constraints\" in text_content:\n",
    "                constraints = text_content\n",
    "        if problem_statement == \"\":\n",
    "            continue\n",
    "    except:\n",
    "        continue\n",
    "\n",
    "    io_style = main_part.xpath(\".//div[@class='part']\")\n",
    "    input_format = html.tostring(io_style[0]).decode(\"utf-8\")\n",
    "    output_format = html.tostring(io_style[1]).decode(\"utf-8\")\n",
    "\n",
    "    samples = []\n",
    "    after_io_style = main_part.xpath(\n",
    "        \".//div[@class='io-style']/following-sibling::div[@class='part']\"\n",
    "    )\n",
    "    sample_count = len(after_io_style)\n",
    "    try:\n",
    "        for i in range(int(sample_count / 2)):\n",
    "            sample_input = after_io_style[i * 2].xpath(\".//pre\")[0].text_content()\n",
    "            sample_output = after_io_style[i * 2 + 1].xpath(\".//pre\")[0].text_content()\n",
    "            samples.append({\"sample_input\": sample_input, \"sample_output\": sample_output})\n",
    "    except:\n",
    "        continue\n",
    "\n",
    "    submissions = []\n",
    "    for submission_item in submission_raw_collection.find(\n",
    "        {\"contest_id\": contest_id, \"task_id\": task_id}\n",
    "    ):\n",
    "        raw_html = submission_item[\"raw_html\"]\n",
    "        tree = html.fromstring(raw_html)\n",
    "        submissions.append(tree.xpath(\"//pre[@id='submission-code']\")[0].text_content())\n",
    "\n",
    "    task_dict = {\n",
    "        \"contest_id\": contest_id,\n",
    "        \"task_id\": task_id,\n",
    "        \"score\": score,\n",
    "        \"problem_statement\": problem_statement,\n",
    "        \"constraints\": constraints,\n",
    "        \"input_format\": input_format,\n",
    "        \"output_format\": output_format,\n",
    "        \"samples\": samples,\n",
    "        \"submissions\": submissions,\n",
    "    }\n",
    "\n",
    "    if contest_id not in temp_dict:\n",
    "        temp_dict[contest_id] = []\n",
    "    temp_dict[contest_id].append(task_dict)\n",
    "\n",
    "for contest_item in contest_collection.find():\n",
    "    start_time = contest_item[\"start_time\"]\n",
    "    contest_id = contest_item[\"contest_url\"].split(\"/\")[2]\n",
    "    contest_name = contest_item[\"contest_name\"]\n",
    "    if contest_id not in temp_dict:\n",
    "        continue\n",
    "    tasks = temp_dict[contest_id]\n",
    "    dataset.append(\n",
    "        {\n",
    "            \"start_time\": start_time,\n",
    "            \"contest_id\": contest_id,\n",
    "            \"contest_name\": contest_name,\n",
    "            \"tasks\": tasks,\n",
    "        }\n",
    "    )"
   ]
  },
  {
   "cell_type": "code",
   "execution_count": 2,
   "metadata": {},
   "outputs": [],
   "source": [
    "with open(\"/app/atcoder.jsonl\", \"w\") as f:\n",
    "    for contest in dataset:\n",
    "        json_line = json.dumps(contest, ensure_ascii=False)\n",
    "        f.write(json_line + \"\\n\")"
   ]
  },
  {
   "cell_type": "code",
   "execution_count": 3,
   "metadata": {},
   "outputs": [
    {
     "data": {
      "text/plain": [
       "'/'"
      ]
     },
     "execution_count": 3,
     "metadata": {},
     "output_type": "execute_result"
    }
   ],
   "source": [
    "import os\n",
    "os.getcwd()"
   ]
  }
 ],
 "metadata": {
  "kernelspec": {
   "display_name": "Python 3",
   "language": "python",
   "name": "python3"
  },
  "language_info": {
   "codemirror_mode": {
    "name": "ipython",
    "version": 3
   },
   "file_extension": ".py",
   "mimetype": "text/x-python",
   "name": "python",
   "nbconvert_exporter": "python",
   "pygments_lexer": "ipython3",
   "version": "3.10.15"
  }
 },
 "nbformat": 4,
 "nbformat_minor": 2
}
